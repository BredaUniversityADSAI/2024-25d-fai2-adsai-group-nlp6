{
 "cells": [
  {
   "cell_type": "code",
   "execution_count": 1,
   "id": "fff6a014",
   "metadata": {},
   "outputs": [],
   "source": [
    "import sys\n",
    "import os\n",
    "import logging\n",
    "\n",
    "# Setup logging to see the conversion process\n",
    "logging.basicConfig(level=logging.INFO, format='%(levelname)s: %(message)s')"
   ]
  },
  {
   "cell_type": "code",
   "execution_count": 2,
   "id": "90f400a2",
   "metadata": {},
   "outputs": [
    {
     "name": "stderr",
     "output_type": "stream",
     "text": [
      "c:\\Users\\Soheil\\AppData\\Local\\pypoetry\\Cache\\virtualenvs\\emotion-clf-pipeline-bOnCAZAr-py3.11\\Lib\\site-packages\\requests\\__init__.py:86: RequestsDependencyWarning: Unable to find acceptable character detection dependency (chardet or charset_normalizer).\n",
      "  warnings.warn(\n"
     ]
    }
   ],
   "source": [
    "# Add the parent directory to path to import our updated module\n",
    "sys.path.insert(0, os.path.join(os.path.dirname(os.getcwd()), 'src'))\n",
    "\n",
    "# Import local module\n",
    "from emotion_clf_pipeline.predict import AzureEndpointPredictor"
   ]
  },
  {
   "cell_type": "markdown",
   "id": "83b19757",
   "metadata": {},
   "source": [
    "#### Option 1 - Using Private URL (auto-converts to NGROK)"
   ]
  },
  {
   "cell_type": "code",
   "execution_count": 3,
   "id": "434ffb4d",
   "metadata": {},
   "outputs": [
    {
     "name": "stderr",
     "output_type": "stream",
     "text": [
      "INFO: 🔄 Converting private URL to NGROK: http://194.171.191.227:30526/api/v1/endpoint/deberta-emotion-clf-endpoint/score\n",
      "INFO: ✅ Converted to server 227 NGROK: https://adsai2.ngrok.dev/port-30526/api/v1/endpoint/deberta-emotion-clf-endpoint/score\n",
      "INFO: 🌐 Azure endpoint initialized with NGROK: https://adsai2.ngrok.dev/port-30526/api/v1/endpoint/deberta-emotion-clf-endpoint/score\n"
     ]
    }
   ],
   "source": [
    "predictor = AzureEndpointPredictor(\n",
    "    api_key='72fNK2ogONHXje1XShvxvQ3mZUKZN8kErOTKnZBx1xaEd9apKnoZJQQJ99BFAAAAAAAAAAAAINFRAZML3cS9', \n",
    "    endpoint_url='http://194.171.191.227:30526/api/v1/endpoint/deberta-emotion-clf-endpoint/score',  # Private URL\n",
    "    encoders_dir=\"../models/encoders\"\n",
    ")"
   ]
  },
  {
   "cell_type": "markdown",
   "id": "e801a2a9",
   "metadata": {},
   "source": [
    "### Option 2 - Using NGROK URL directly"
   ]
  },
  {
   "cell_type": "code",
   "execution_count": 4,
   "id": "ac0954d6",
   "metadata": {},
   "outputs": [
    {
     "name": "stderr",
     "output_type": "stream",
     "text": [
      "INFO: 🔄 Converting private URL to NGROK: http://194.171.191.227:30526/api/v1/endpoint/deberta-emotion-clf-endpoint/score\n",
      "INFO: ✅ Converted to server 227 NGROK: https://adsai2.ngrok.dev/port-30526/api/v1/endpoint/deberta-emotion-clf-endpoint/score\n",
      "INFO: 🌐 Azure endpoint initialized with NGROK: https://adsai2.ngrok.dev/port-30526/api/v1/endpoint/deberta-emotion-clf-endpoint/score\n"
     ]
    }
   ],
   "source": [
    "predictor = AzureEndpointPredictor(\n",
    "    api_key='72fNK2ogONHXje1XShvxvQ3mZUKZN8kErOTKnZBx1xaEd9apKnoZJQQJ99BFAAAAAAAAAAAAINFRAZML3cS9', \n",
    "    endpoint_url='http://194.171.191.227:30526/api/v1/endpoint/deberta-emotion-clf-endpoint/score',  # Private URL\n",
    "    encoders_dir=\"../models/encoders\"\n",
    ")"
   ]
  },
  {
   "cell_type": "code",
   "execution_count": 5,
   "id": "8359a812",
   "metadata": {},
   "outputs": [
    {
     "name": "stderr",
     "output_type": "stream",
     "text": [
      "INFO: 🔄 Attempt 1/5 - Sending request to: https://adsai2.ngrok.dev/port-30526/api/v1/endpoint/deberta-emotion-clf-endpoint/score\n",
      "ERROR: ❌ Attempt 1 failed: Request failed: 504 upstream request timeout\n",
      "INFO: 🔄 Retrying in a moment...\n",
      "INFO: 🔄 Attempt 2/5 - Sending request to: https://adsai2.ngrok.dev/port-30526/api/v1/endpoint/deberta-emotion-clf-endpoint/score\n",
      "ERROR: ❌ Attempt 2 failed: Request failed: 504 upstream request timeout\n",
      "INFO: 🔄 Retrying in a moment...\n",
      "INFO: 🔄 Attempt 3/5 - Sending request to: https://adsai2.ngrok.dev/port-30526/api/v1/endpoint/deberta-emotion-clf-endpoint/score\n",
      "ERROR: ❌ Attempt 3 failed: Request failed: 504 upstream request timeout\n",
      "INFO: 🔄 Retrying in a moment...\n",
      "INFO: 🔄 Attempt 4/5 - Sending request to: https://adsai2.ngrok.dev/port-30526/api/v1/endpoint/deberta-emotion-clf-endpoint/score\n",
      "ERROR: ❌ Attempt 4 failed: Request failed: 504 upstream request timeout\n",
      "INFO: 🔄 Retrying in a moment...\n",
      "INFO: 🔄 Attempt 5/5 - Sending request to: https://adsai2.ngrok.dev/port-30526/api/v1/endpoint/deberta-emotion-clf-endpoint/score\n",
      "ERROR: ❌ Attempt 5 failed: Request failed: 504 upstream request timeout\n",
      "ERROR: ❌ All 5 attempts failed. Last error: Request failed: 504 upstream request timeout\n"
     ]
    },
    {
     "ename": "RuntimeError",
     "evalue": "All 5 attempts failed. Last error: Request failed: 504 upstream request timeout",
     "output_type": "error",
     "traceback": [
      "\u001b[31m---------------------------------------------------------------------------\u001b[39m",
      "\u001b[31mRuntimeError\u001b[39m                              Traceback (most recent call last)",
      "\u001b[36mCell\u001b[39m\u001b[36m \u001b[39m\u001b[32mIn[5]\u001b[39m\u001b[32m, line 1\u001b[39m\n\u001b[32m----> \u001b[39m\u001b[32m1\u001b[39m result = \u001b[43mpredictor\u001b[49m\u001b[43m.\u001b[49m\u001b[43mpredict\u001b[49m\u001b[43m(\u001b[49m\u001b[33;43m\"\u001b[39;49m\u001b[33;43mi\u001b[39;49m\u001b[33;43m'\u001b[39;49m\u001b[33;43mm really admiring what you do\u001b[39;49m\u001b[33;43m\"\u001b[39;49m\u001b[43m)\u001b[49m\n\u001b[32m      2\u001b[39m result\n",
      "\u001b[36mFile \u001b[39m\u001b[32mx:\\University\\2024-25d-fai2-adsai-group-nlp6\\src\\emotion_clf_pipeline\\predict.py:917\u001b[39m, in \u001b[36mAzureEndpointPredictor.predict\u001b[39m\u001b[34m(self, text)\u001b[39m\n\u001b[32m    915\u001b[39m error_msg = \u001b[33mf\u001b[39m\u001b[33m\"\u001b[39m\u001b[33mAll \u001b[39m\u001b[38;5;132;01m{\u001b[39;00mmax_retry\u001b[38;5;132;01m}\u001b[39;00m\u001b[33m attempts failed. Last error: \u001b[39m\u001b[38;5;132;01m{\u001b[39;00mlast_error\u001b[38;5;132;01m}\u001b[39;00m\u001b[33m\"\u001b[39m\n\u001b[32m    916\u001b[39m logger.error(\u001b[33mf\u001b[39m\u001b[33m\"\u001b[39m\u001b[33m❌ \u001b[39m\u001b[38;5;132;01m{\u001b[39;00merror_msg\u001b[38;5;132;01m}\u001b[39;00m\u001b[33m\"\u001b[39m)\n\u001b[32m--> \u001b[39m\u001b[32m917\u001b[39m \u001b[38;5;28;01mraise\u001b[39;00m \u001b[38;5;167;01mRuntimeError\u001b[39;00m(error_msg)\n",
      "\u001b[31mRuntimeError\u001b[39m: All 5 attempts failed. Last error: Request failed: 504 upstream request timeout"
     ]
    }
   ],
   "source": [
    "result = predictor.predict(\"i'm really admiring what you do\")\n",
    "result"
   ]
  },
  {
   "cell_type": "code",
   "execution_count": null,
   "id": "300edf1d",
   "metadata": {},
   "outputs": [],
   "source": []
  }
 ],
 "metadata": {
  "kernelspec": {
   "display_name": "emotion-clf-pipeline-bOnCAZAr-py3.11",
   "language": "python",
   "name": "python3"
  },
  "language_info": {
   "codemirror_mode": {
    "name": "ipython",
    "version": 3
   },
   "file_extension": ".py",
   "mimetype": "text/x-python",
   "name": "python",
   "nbconvert_exporter": "python",
   "pygments_lexer": "ipython3",
   "version": "3.11.9"
  }
 },
 "nbformat": 4,
 "nbformat_minor": 5
}

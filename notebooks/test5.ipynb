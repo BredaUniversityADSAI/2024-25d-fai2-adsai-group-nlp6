{
 "cells": [
  {
   "cell_type": "code",
   "execution_count": null,
   "id": "2443d135",
   "metadata": {},
   "outputs": [],
   "source": [
    "1"
   ]
  }
 ],
 "metadata": {
  "language_info": {
   "name": "python"
  }
 },
 "nbformat": 4,
 "nbformat_minor": 5
}

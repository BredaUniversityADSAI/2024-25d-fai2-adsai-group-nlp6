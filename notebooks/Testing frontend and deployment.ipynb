{
 "cells": [
  {
   "cell_type": "markdown",
   "id": "e497c2ec",
   "metadata": {},
   "source": [
    "Testing Endpoint and Deployment "
   ]
  },
  {
   "cell_type": "markdown",
   "id": "87935f01",
   "metadata": {},
   "source": [
    "This Python script sends a POST request to a REST API that serves a DeBERTa NLP model, using an API key for authentication. It serializes a sample text input as JSON, sets the appropriate headers (including content type and authorization), and sends the request to the model's scoring endpoint. The script then reads and prints the response from the model, which likely contains predictions or analysis of the input text. If the request fails (e.g., due to network or authorization issues), the script catches the HTTP error and prints the error details for debugging."
   ]
  },
  {
   "cell_type": "code",
   "execution_count": 2,
   "id": "71af86c6",
   "metadata": {},
   "outputs": [
    {
     "name": "stdout",
     "output_type": "stream",
     "text": [
      "The request failed with status code: 502\n",
      "Headers: server: listener_0\n",
      "date: Mon, 23 Jun 2025 13:58:31 GMT\n",
      "content-type: application/json\n",
      "content-length: 92\n",
      "x-ms-run-function-failed: True\n",
      "x-ms-server-version: azmlinfsrv/1.4.1\n",
      "x-request-id: 73bb6330-1ebe-4055-b36d-041205cb0582\n",
      "x-ms-request-id: 73bb6330-1ebe-4055-b36d-041205cb0582\n",
      "assigned-version: blue-deberta-endpoint\n",
      "assignment-method: AMLRandom\n",
      "versions-list: [{\"name\":\"blue-deberta-endpoint\",\"trafficPercentile\":100}]\n",
      "assigned-percent: 1.000000\n",
      "connection: close\n",
      "\n",
      "\n",
      "Error response: {\"message\": \"An unexpected error occurred in scoring script. Check the logs for more info.\"}\n"
     ]
    }
   ],
   "source": [
    "import urllib.request\n",
    "import json\n",
    "\n",
    "# Your primary key (replace with secondary if you want)\n",
    "api_key = '5p9ggpJc34NY3FH65JmJgIOiaWsBpre2cBH4r38EnmHsCKt0iuAmJQQJ99BFAAAAAAAAAAAAINFRAZML3sA3'\n",
    "\n",
    "if not api_key:\n",
    "    raise Exception(\"A key should be provided to invoke the endpoint\")\n",
    "\n",
    "# Example input data - adjust this according to your model's expected input format\n",
    "data = {\n",
    "        \"text\": \"This is a test sentence to evaluate the DeBERTa endpoint.\"\n",
    "    }\n",
    "\n",
    "# Encode the data to JSON bytes\n",
    "body = str.encode(json.dumps(data))\n",
    "\n",
    "# Your endpoint URL\n",
    "url = 'http://194.171.191.227:30526/api/v1/endpoint/deberta-endpoint/score'\n",
    "\n",
    "# Set the request headers including authorization with your API key\n",
    "headers = {\n",
    "    'Content-Type': 'application/json',\n",
    "    'Accept': 'application/json',\n",
    "    'Authorization': 'Bearer ' + api_key\n",
    "}\n",
    "\n",
    "# Prepare the request\n",
    "req = urllib.request.Request(url, body, headers)\n",
    "\n",
    "try:\n",
    "    # Send the request and read the response\n",
    "    response = urllib.request.urlopen(req)\n",
    "    result = response.read()\n",
    "    print(\"Response from DeBERTa endpoint:\")\n",
    "    print(result.decode(\"utf-8\"))\n",
    "\n",
    "except urllib.error.HTTPError as error:\n",
    "    # If there's an HTTP error, print status and details\n",
    "    print(\"The request failed with status code:\", error.code)\n",
    "    print(\"Headers:\", error.info())\n",
    "    print(\"Error response:\", error.read().decode(\"utf8\", 'ignore'))\n"
   ]
  }
 ],
 "metadata": {
  "kernelspec": {
   "display_name": "myenv",
   "language": "python",
   "name": "python3"
  },
  "language_info": {
   "codemirror_mode": {
    "name": "ipython",
    "version": 3
   },
   "file_extension": ".py",
   "mimetype": "text/x-python",
   "name": "python",
   "nbconvert_exporter": "python",
   "pygments_lexer": "ipython3",
   "version": "3.12.3"
  }
 },
 "nbformat": 4,
 "nbformat_minor": 5
}

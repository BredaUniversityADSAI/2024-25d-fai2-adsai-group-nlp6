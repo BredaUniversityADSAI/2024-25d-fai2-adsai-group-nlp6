{
 "cells": [
  {
   "cell_type": "code",
   "execution_count": 2,
   "id": "2af41190",
   "metadata": {},
   "outputs": [
    {
     "name": "stderr",
     "output_type": "stream",
     "text": [
      "Overriding of current TracerProvider is not allowed\n",
      "Overriding of current LoggerProvider is not allowed\n",
      "Overriding of current MeterProvider is not allowed\n",
      "Attempting to instrument while already instrumented\n",
      "Attempting to instrument while already instrumented\n",
      "Attempting to instrument while already instrumented\n",
      "Attempting to instrument while already instrumented\n",
      "Attempting to instrument while already instrumented\n"
     ]
    },
    {
     "name": "stdout",
     "output_type": "stream",
     "text": [
      "✅ Data asset uploaded to Azure ML\n"
     ]
    }
   ],
   "source": [
    "from azure.ai.ml import MLClient\n",
    "from azure.ai.ml.entities import Data\n",
    "from azure.identity import DefaultAzureCredential\n",
    "from pathlib import Path\n",
    "\n",
    "# Connect to Azure ML\n",
    "ml_client = MLClient(\n",
    "    DefaultAzureCredential(),\n",
    "    subscription_id=\"0a94de80-6d3b-49f2-b3e9-ec5818862801\",\n",
    "    resource_group_name=\"buas-y2\",\n",
    "    workspace_name=\"NLP6-2025\",\n",
    ")\n",
    "\n",
    "# Path to the raw data folder\n",
    "data_path = Path(\"../data/raw/train\")  # from inside the notebooks folder\n",
    "\n",
    "# Create the data asset\n",
    "data_asset = Data(\n",
    "    path=data_path,\n",
    "    type=\"uri_folder\",\n",
    "    name=\"emotion-raw-train\",\n",
    "    version=\"3\",\n",
    "    description=\"Cleaned and labeled training data for emotion classification\"\n",
    ")\n",
    "\n",
    "# Upload to Azure\n",
    "ml_client.data.create_or_update(data_asset)\n",
    "print(\"✅ Data asset uploaded to Azure ML\")\n"
   ]
  },
  {
   "cell_type": "code",
   "execution_count": 7,
   "id": "ae5f617f",
   "metadata": {},
   "outputs": [
    {
     "name": "stderr",
     "output_type": "stream",
     "text": [
      "Overriding of current TracerProvider is not allowed\n",
      "Overriding of current LoggerProvider is not allowed\n",
      "Overriding of current MeterProvider is not allowed\n",
      "Attempting to instrument while already instrumented\n",
      "Attempting to instrument while already instrumented\n",
      "Attempting to instrument while already instrumented\n",
      "Attempting to instrument while already instrumented\n",
      "\u001b[32mUploading test (0.08 MBs): 100%|██████████| 77465/77465 [00:00<00:00, 1459424.87it/s]\n",
      "\u001b[39m\n",
      "\n"
     ]
    },
    {
     "name": "stdout",
     "output_type": "stream",
     "text": [
      "✅ Data asset uploaded to Azure ML\n"
     ]
    }
   ],
   "source": [
    "from azure.ai.ml import MLClient\n",
    "from azure.ai.ml.entities import Data\n",
    "from azure.identity import DefaultAzureCredential\n",
    "from pathlib import Path\n",
    "\n",
    "# Connect to Azure ML\n",
    "ml_client = MLClient(\n",
    "    DefaultAzureCredential(),\n",
    "    subscription_id=\"0a94de80-6d3b-49f2-b3e9-ec5818862801\",\n",
    "    resource_group_name=\"buas-y2\",\n",
    "    workspace_name=\"NLP6-2025\",\n",
    ")\n",
    "\n",
    "# Path to the raw data folder\n",
    "data_path = Path(\"../data/raw/test\")  # from inside the notebooks folder\n",
    "\n",
    "# Create the data asset\n",
    "data_asset = Data(\n",
    "    path=data_path,\n",
    "    type=\"uri_folder\",\n",
    "    name=\"emotion-raw-test\",\n",
    "    version=\"1\",\n",
    "    description=\"Cleaned and labeled testing data for emotion classification\"\n",
    ")\n",
    "\n",
    "# Upload to Azure\n",
    "ml_client.data.create_or_update(data_asset)\n",
    "print(\"✅ Data asset uploaded to Azure ML\")\n"
   ]
  },
  {
   "cell_type": "code",
   "execution_count": null,
   "id": "12961c6c",
   "metadata": {},
   "outputs": [],
   "source": []
  }
 ],
 "metadata": {
  "kernelspec": {
   "display_name": "emotion-clf-pipeline-bOnCAZAr-py3.11",
   "language": "python",
   "name": "python3"
  },
  "language_info": {
   "codemirror_mode": {
    "name": "ipython",
    "version": 3
   },
   "file_extension": ".py",
   "mimetype": "text/x-python",
   "name": "python",
   "nbconvert_exporter": "python",
   "pygments_lexer": "ipython3",
   "version": "3.11.9"
  }
 },
 "nbformat": 4,
 "nbformat_minor": 5
}

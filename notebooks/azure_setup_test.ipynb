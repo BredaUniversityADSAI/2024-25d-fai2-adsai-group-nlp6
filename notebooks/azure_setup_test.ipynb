{
 "cells": [
  {
   "cell_type": "code",
   "execution_count": 3,
   "id": "2443d135",
   "metadata": {},
   "outputs": [
    {
     "name": "stderr",
     "output_type": "stream",
     "text": [
      "Overriding of current TracerProvider is not allowed\n",
      "Overriding of current LoggerProvider is not allowed\n",
      "Overriding of current MeterProvider is not allowed\n",
      "Overriding of current LoggerProvider is not allowed\n",
      "Overriding of current MeterProvider is not allowed\n",
      "Attempting to instrument while already instrumented\n",
      "Attempting to instrument while already instrumented\n",
      "Attempting to instrument while already instrumented\n",
      "Attempting to instrument while already instrumented\n",
      "Attempting to instrument while already instrumented\n",
      "Attempting to instrument while already instrumented\n",
      "Attempting to instrument while already instrumented\n",
      "Attempting to instrument while already instrumented\n"
     ]
    },
    {
     "data": {
      "text/plain": [
       "Project({'kind': 'project', 'print_as_yaml': False, 'discovery_url': 'https://westeurope.api.azureml.ms/discovery', 'mlflow_tracking_uri': 'azureml://westeurope.api.azureml.ms/mlflow/v1.0/subscriptions/0a94de80-6d3b-49f2-b3e9-ec5818862801/resourceGroups/buas-y2/providers/Microsoft.MachineLearningServices/workspaces/NLP6-2025', 'workspace_id': '1db9dd87-ebf5-4750-96c1-5679c7f557d6', 'feature_store_settings': None, 'name': 'NLP6-2025', 'description': 'Azure ML project workspace for NLP6-2025', 'tags': {'createdByToolkit': 'cli-v2-1.26.3'}, 'properties': {}, 'id': '/subscriptions/0a94de80-6d3b-49f2-b3e9-ec5818862801/resourceGroups/buas-y2/providers/Microsoft.MachineLearningServices/workspaces/NLP6-2025', 'Resource__source_path': '', 'base_path': '/Users/erfan.salour/Desktop/2024-25d-fai2-adsai-group-nlp6/notebooks', 'creation_context': None, 'serialize': <msrest.serialization.Serializer object at 0x12d0dda50>, 'display_name': 'NLP6-2025', 'location': 'westeurope', 'resource_group': 'buas-y2', 'hbi_workspace': False, 'storage_account': '/subscriptions/0a94de80-6d3b-49f2-b3e9-ec5818862801/resourceGroups/buas-y2/providers/Microsoft.Storage/storageAccounts/y2d20254243635300', 'container_registry': '/subscriptions/0a94de80-6d3b-49f2-b3e9-ec5818862801/resourceGroups/buas-y2/providers/Microsoft.ContainerRegistry/registries/y2d2025', 'key_vault': '/subscriptions/0a94de80-6d3b-49f2-b3e9-ec5818862801/resourceGroups/buas-y2/providers/Microsoft.KeyVault/vaults/y2d20257131205142', 'application_insights': '/subscriptions/0a94de80-6d3b-49f2-b3e9-ec5818862801/resourceGroups/buas-y2/providers/Microsoft.Insights/components/y2d2025', 'customer_managed_key': None, 'image_build_compute': None, 'public_network_access': 'Enabled', 'identity': <azure.ai.ml.entities._credentials.IdentityConfiguration object at 0x12d0dd910>, 'primary_user_assigned_identity': None, 'managed_network': <azure.ai.ml.entities._workspace.networking.ManagedNetwork object at 0x12c693ad0>, 'provision_network_now': None, 'system_datastores_auth_mode': 'accesskey', 'enable_data_isolation': True, 'allow_roleassignment_on_rg': False, 'Workspace__hub_id': '/subscriptions/0a94de80-6d3b-49f2-b3e9-ec5818862801/resourceGroups/buas-y2/providers/Microsoft.MachineLearningServices/workspaces/Y2D-2025', 'serverless_compute': <azure.ai.ml.entities._workspace.serverless_compute.ServerlessComputeSettings object at 0x12d0dd950>, 'network_acls': NetworkAcls(default_action=Allow, ip_rules=[])})"
      ]
     },
     "execution_count": 3,
     "metadata": {},
     "output_type": "execute_result"
    }
   ],
   "source": [
    "from azure.ai.ml import MLClient\n",
    "from azure.identity import DefaultAzureCredential\n",
    "\n",
    "ml_client = MLClient(\n",
    "    credential=DefaultAzureCredential(),\n",
    "    subscription_id=\"0a94de80-6d3b-49f2-b3e9-ec5818862801\",\n",
    "    resource_group_name=\"buas-y2\",\n",
    "    workspace_name=\"NLP6-2025\",\n",
    ")\n",
    "\n",
    "ml_client.workspaces.get(name=\"NLP6-2025\")\n"
   ]
  },
  {
   "cell_type": "code",
   "execution_count": null,
   "id": "e2673e75",
   "metadata": {},
   "outputs": [],
   "source": []
  }
 ],
 "metadata": {
  "kernelspec": {
   "display_name": "emotion-clf-pipeline-kqkkoEEL-py3.11",
   "language": "python",
   "name": "python3"
  },
  "language_info": {
   "codemirror_mode": {
    "name": "ipython",
    "version": 3
   },
   "file_extension": ".py",
   "mimetype": "text/x-python",
   "name": "python",
   "nbconvert_exporter": "python",
   "pygments_lexer": "ipython3",
   "version": "3.11.1"
  }
 },
 "nbformat": 4,
 "nbformat_minor": 5
}

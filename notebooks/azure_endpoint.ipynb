{
 "cells": [
  {
   "cell_type": "code",
   "execution_count": 2,
   "id": "fff6a014",
   "metadata": {},
   "outputs": [],
   "source": [
    "import sys\n",
    "import os\n",
    "import logging\n",
    "\n",
    "# Setup logging to see the conversion process\n",
    "logging.basicConfig(level=logging.INFO, format='%(levelname)s: %(message)s')"
   ]
  },
  {
   "cell_type": "code",
   "execution_count": null,
   "id": "90f400a2",
   "metadata": {},
   "outputs": [],
   "source": [
    "# Add the parent directory to path to import our updated module\n",
    "sys.path.insert(0, os.path.join(os.path.dirname(os.getcwd()), 'src'))\n",
    "\n",
    "# Import local module\n",
    "from emotion_clf_pipeline.predict import AzureEndpointPredictor"
   ]
  },
  {
   "cell_type": "markdown",
   "id": "83b19757",
   "metadata": {},
   "source": [
    "#### Option 1 - Using Private URL (auto-converts to NGROK)"
   ]
  },
  {
   "cell_type": "code",
   "execution_count": 3,
   "id": "434ffb4d",
   "metadata": {},
   "outputs": [
    {
     "name": "stderr",
     "output_type": "stream",
     "text": [
      "INFO: 🔄 Converting private URL to NGROK: http://194.171.191.227:30526/api/v1/endpoint/deberta-emotion-clf-endpoint/score\n",
      "INFO: ✅ Converted to server 227 NGROK: https://adsai2.ngrok.dev/port-30526/api/v1/endpoint/deberta-emotion-clf-endpoint/score\n",
      "INFO: 🌐 Azure endpoint initialized with NGROK: https://adsai2.ngrok.dev/port-30526/api/v1/endpoint/deberta-emotion-clf-endpoint/score\n"
     ]
    }
   ],
   "source": [
    "predictor = AzureEndpointPredictor(\n",
    "    api_key='72fNK2ogONHXje1XShvxvQ3mZUKZN8kErOTKnZBx1xaEd9apKnoZJQQJ99BFAAAAAAAAAAAAINFRAZML3cS9', \n",
    "    endpoint_url='http://194.171.191.227:30526/api/v1/endpoint/deberta-emotion-clf-endpoint/score',  # Private URL\n",
    "    encoders_dir=\"../models/encoders\"\n",
    ")"
   ]
  },
  {
   "cell_type": "markdown",
   "id": "e801a2a9",
   "metadata": {},
   "source": [
    "### Option 2 - Using NGROK URL directly"
   ]
  },
  {
   "cell_type": "code",
   "execution_count": 4,
   "id": "ac0954d6",
   "metadata": {},
   "outputs": [
    {
     "name": "stderr",
     "output_type": "stream",
     "text": [
      "INFO: 🔄 Converting private URL to NGROK: http://194.171.191.227:30526/api/v1/endpoint/deberta-emotion-clf-endpoint/score\n",
      "INFO: ✅ Converted to server 227 NGROK: https://adsai2.ngrok.dev/port-30526/api/v1/endpoint/deberta-emotion-clf-endpoint/score\n",
      "INFO: 🌐 Azure endpoint initialized with NGROK: https://adsai2.ngrok.dev/port-30526/api/v1/endpoint/deberta-emotion-clf-endpoint/score\n"
     ]
    }
   ],
   "source": [
    "predictor = AzureEndpointPredictor(\n",
    "    api_key='72fNK2ogONHXje1XShvxvQ3mZUKZN8kErOTKnZBx1xaEd9apKnoZJQQJ99BFAAAAAAAAAAAAINFRAZML3cS9', \n",
    "    endpoint_url='http://194.171.191.227:30526/api/v1/endpoint/deberta-emotion-clf-endpoint/score',  # Private URL\n",
    "    encoders_dir=\"../models/encoders\"\n",
    ")"
   ]
  },
  {
   "cell_type": "code",
   "execution_count": 5,
   "id": "8359a812",
   "metadata": {},
   "outputs": [
    {
     "name": "stderr",
     "output_type": "stream",
     "text": [
      "INFO: 🔄 Attempt 1/5 - Sending request to: https://adsai2.ngrok.dev/port-30526/api/v1/endpoint/deberta-emotion-clf-endpoint/score\n",
      "INFO: ✅ Prediction successful!\n"
     ]
    },
    {
     "data": {
      "text/plain": [
       "{'emotion': 'happiness', 'sub_emotion': 'admiration', 'intensity': 'moderate'}"
      ]
     },
     "execution_count": 5,
     "metadata": {},
     "output_type": "execute_result"
    }
   ],
   "source": [
    "result = predictor.predict(\"i'm really admiring what you do\")\n",
    "result"
   ]
  },
  {
   "cell_type": "code",
   "execution_count": null,
   "id": "300edf1d",
   "metadata": {},
   "outputs": [],
   "source": []
  }
 ],
 "metadata": {
  "kernelspec": {
   "display_name": "emotion-clf-pipeline-bOnCAZAr-py3.11",
   "language": "python",
   "name": "python3"
  },
  "language_info": {
   "codemirror_mode": {
    "name": "ipython",
    "version": 3
   },
   "file_extension": ".py",
   "mimetype": "text/x-python",
   "name": "python",
   "nbconvert_exporter": "python",
   "pygments_lexer": "ipython3",
   "version": "3.11.9"
  }
 },
 "nbformat": 4,
 "nbformat_minor": 5
}

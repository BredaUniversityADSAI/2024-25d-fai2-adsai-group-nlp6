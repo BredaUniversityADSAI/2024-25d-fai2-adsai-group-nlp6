{
 "cells": [
  {
   "cell_type": "code",
   "execution_count": 13,
   "id": "44947b1d",
   "metadata": {},
   "outputs": [
    {
     "name": "stderr",
     "output_type": "stream",
     "text": [
      "Overriding of current TracerProvider is not allowed\n",
      "Overriding of current LoggerProvider is not allowed\n",
      "Overriding of current MeterProvider is not allowed\n"
     ]
    },
    {
     "name": "stderr",
     "output_type": "stream",
     "text": [
      "Attempting to instrument while already instrumented\n",
      "Attempting to instrument while already instrumented\n",
      "Attempting to instrument while already instrumented\n",
      "Attempting to instrument while already instrumented\n",
      "Attempting to instrument while already instrumented\n"
     ]
    },
    {
     "name": "stdout",
     "output_type": "stream",
     "text": [
      "Endpoint Name: deberta-endpoint\n",
      "  Status: Succeeded\n",
      "  Scoring URI: http://194.171.191.227:30526/api/v1/endpoint/deberta-endpoint/score\n",
      "  Authentication Mode: key\n",
      "--------------------------------------------------\n"
     ]
    }
   ],
   "source": [
    "import os\n",
    "from dotenv import load_dotenv\n",
    "from azure.ai.ml import MLClient\n",
    "from azure.identity import ClientSecretCredential\n",
    "\n",
    "# Load environment variables\n",
    "load_dotenv()\n",
    "\n",
    "# Get Azure credentials from environment variables\n",
    "subscription_id = os.getenv(\"AZURE_SUBSCRIPTION_ID\")\n",
    "resource_group = os.getenv(\"AZURE_RESOURCE_GROUP\")\n",
    "workspace_name = os.getenv(\"AZURE_WORKSPACE_NAME\")\n",
    "tenant_id = os.getenv(\"AZURE_TENANT_ID\")\n",
    "client_id = os.getenv(\"AZURE_CLIENT_ID\")\n",
    "client_secret = os.getenv(\"AZURE_CLIENT_SECRET\")\n",
    "\n",
    "# Create credential and ML client\n",
    "credential = ClientSecretCredential(\n",
    "    tenant_id=tenant_id,\n",
    "    client_id=client_id,\n",
    "    client_secret=client_secret\n",
    ")\n",
    "\n",
    "ml_client = MLClient(\n",
    "    credential=credential,\n",
    "    subscription_id=subscription_id,\n",
    "    resource_group_name=resource_group,\n",
    "    workspace_name=workspace_name\n",
    ")\n",
    "\n",
    "# List all endpoints\n",
    "endpoints = ml_client.online_endpoints.list()\n",
    "for endpoint in endpoints:\n",
    "    print(f\"Endpoint Name: {endpoint.name}\")\n",
    "    print(f\"  Status: {endpoint.provisioning_state}\")\n",
    "    print(f\"  Scoring URI: {endpoint.scoring_uri}\")\n",
    "    print(f\"  Authentication Mode: {endpoint.auth_mode}\")\n",
    "    print(\"-\" * 50)"
   ]
  },
  {
   "cell_type": "code",
   "execution_count": 14,
   "id": "0d260b72",
   "metadata": {},
   "outputs": [
    {
     "data": {
      "text/plain": [
       "KubernetesOnlineEndpoint({'provisioning_state': 'Succeeded', 'scoring_uri': 'http://194.171.191.227:30526/api/v1/endpoint/deberta-endpoint/score', 'openapi_uri': 'http://194.171.191.227:30526/api/v1/endpoint/deberta-endpoint/swagger.json', 'name': 'deberta-endpoint', 'description': None, 'tags': {}, 'properties': {'createdBy': 'a2230f31-0fda-428d-8c5c-ec79e91a49f5', 'createdAt': '2025-06-20T11:46:26.167926+0000', 'lastModifiedAt': '2025-06-20T12:33:44.357267+0000', 'azureml.onlineendpointid': '/subscriptions/0a94de80-6d3b-49f2-b3e9-ec5818862801/resourcegroups/buas-y2/providers/microsoft.machinelearningservices/workspaces/nlp6-2025/onlineendpoints/deberta-endpoint', 'AzureAsyncOperationUri': 'https://management.azure.com/subscriptions/0a94de80-6d3b-49f2-b3e9-ec5818862801/providers/Microsoft.MachineLearningServices/locations/westeurope/mfeOperationsStatus/oeidp:1db9dd87-ebf5-4750-96c1-5679c7f557d6:74589479-ea40-402e-a188-03ebcaaaf628?api-version=2022-02-01-preview'}, 'print_as_yaml': False, 'id': '/subscriptions/0a94de80-6d3b-49f2-b3e9-ec5818862801/resourceGroups/buas-y2/providers/Microsoft.MachineLearningServices/workspaces/NLP6-2025/onlineEndpoints/deberta-endpoint', 'Resource__source_path': '', 'base_path': 'x:\\\\University\\\\2024-25d-fai2-adsai-group-nlp6\\\\notebooks', 'creation_context': None, 'serialize': <msrest.serialization.Serializer object at 0x000001D06C86B410>, 'auth_mode': 'key', 'location': 'westeurope', 'identity': <azure.ai.ml.entities._credentials.IdentityConfiguration object at 0x000001D06C8685D0>, 'traffic': {'blue': 100}, 'mirror_traffic': {}, 'kind': 'K8S', 'compute': '/subscriptions/0a94de80-6d3b-49f2-b3e9-ec5818862801/resourceGroups/buas-y2/providers/Microsoft.MachineLearningServices/workspaces/NLP6-2025/computes/adsai-lambda-0'})"
      ]
     },
     "execution_count": 14,
     "metadata": {},
     "output_type": "execute_result"
    }
   ],
   "source": [
    "endpoint"
   ]
  },
  {
   "cell_type": "code",
   "execution_count": null,
   "id": "75595659",
   "metadata": {},
   "outputs": [],
   "source": [
    "import requests\n",
    "import json\n",
    "\n",
    "# Get the endpoint keys for authentication\n",
    "endpoint_keys = ml_client.online_endpoints.get_keys(name=endpoint.name)\n",
    "primary_key = endpoint_keys.primary_key\n",
    "\n",
    "# Prepare sample data for inference\n",
    "sample_data = {\n",
    "    \"input_data\": {\n",
    "        \"columns\": [\"text\"],\n",
    "        \"index\": [0],\n",
    "        \"data\": [[\"I am so excited about this new project, it's going to be amazing!\"]]\n",
    "    }\n",
    "}\n",
    "\n",
    "# Set up headers with authentication\n",
    "headers = {\n",
    "    \"Content-Type\": \"application/json\",\n",
    "    \"Accept\": \"application/json\",\n",
    "    \"Authorization\": f\"Bearer {primary_key}\"\n",
    "}\n",
    "\n",
    "# Make a POST request to the endpoint\n",
    "response = requests.post(\n",
    "    endpoint.scoring_uri,\n",
    "    data=json.dumps(sample_data),\n",
    "    headers=headers\n",
    ")\n",
    "\n",
    "# Print the response\n",
    "print(f\"Status Code: {response.status_code}\")\n",
    "print(f\"Response: {response.json()}\")"
   ]
  },
  {
   "cell_type": "code",
   "execution_count": null,
   "id": "cb53979b",
   "metadata": {},
   "outputs": [],
   "source": []
  }
 ],
 "metadata": {
  "kernelspec": {
   "display_name": "emotion-clf-pipeline-bOnCAZAr-py3.11",
   "language": "python",
   "name": "python3"
  },
  "language_info": {
   "codemirror_mode": {
    "name": "ipython",
    "version": 3
   },
   "file_extension": ".py",
   "mimetype": "text/x-python",
   "name": "python",
   "nbconvert_exporter": "python",
   "pygments_lexer": "ipython3",
   "version": "3.11.9"
  }
 },
 "nbformat": 4,
 "nbformat_minor": 5
}

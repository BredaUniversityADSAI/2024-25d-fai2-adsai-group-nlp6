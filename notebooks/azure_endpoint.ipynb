{
 "cells": [
  {
   "cell_type": "code",
   "execution_count": 2,
   "id": "60e79391",
   "metadata": {},
   "outputs": [
    {
     "name": "stdout",
     "output_type": "stream",
     "text": [
      "Response from DeBERTa endpoint:\n",
      "\"{\\\"predictions\\\": {\\\"emotion\\\": \\\"unknown\\\", \\\"sub_emotion\\\": \\\"unknown\\\", \\\"intensity\\\": \\\"unknown\\\"}, \\\"raw_predictions\\\": {\\\"emotion\\\": [[-2.3535149097442627, -2.7075352668762207, -2.1163432598114014, 2.768012762069702, 3.4213383197784424, -2.740438461303711, 1.3640868663787842]], \\\"sub_emotion\\\": [[-0.908567488193512, 0.7767903208732605, -4.667848587036133, -0.5953039526939392, -0.41957715153694153, -0.660086452960968, 1.8608988523483276, 4.128921985626221, -2.0373587608337402, -1.554884910583496, -1.1481451988220215, -3.3077480792999268, -3.654724597930908, -0.7455893754959106, -2.2528023719787598, -4.40749454498291, -5.066255569458008, -2.410703182220459, -4.219160079956055, -0.38470709323883057, 4.7725701332092285, 0.5356895327568054, -0.6146451234817505, 2.2942633628845215, 0.11964304745197296, -4.125598907470703, -2.3472158908843994, -0.8247337937355042]], \\\"intensity\\\": [[3.7233965396881104, 1.0488967895507812, -3.915595293045044]]}, \\\"confidence_scores\\\": {\\\"emotion\\\": [[-2.3535149097442627, -2.7075352668762207, -2.1163432598114014, 2.768012762069702, 3.4213383197784424, -2.740438461303711, 1.3640868663787842]], \\\"sub_emotion\\\": [[-0.908567488193512, 0.7767903208732605, -4.667848587036133, -0.5953039526939392, -0.41957715153694153, -0.660086452960968, 1.8608988523483276, 4.128921985626221, -2.0373587608337402, -1.554884910583496, -1.1481451988220215, -3.3077480792999268, -3.654724597930908, -0.7455893754959106, -2.2528023719787598, -4.40749454498291, -5.066255569458008, -2.410703182220459, -4.219160079956055, -0.38470709323883057, 4.7725701332092285, 0.5356895327568054, -0.6146451234817505, 2.2942633628845215, 0.11964304745197296, -4.125598907470703, -2.3472158908843994, -0.8247337937355042]], \\\"intensity\\\": [[3.7233965396881104, 1.0488967895507812, -3.915595293045044]]}, \\\"status\\\": \\\"success\\\"}\"\n"
     ]
    }
   ],
   "source": [
    "import urllib.request\n",
    "import json\n",
    " \n",
    "# Your primary key (replace with secondary if you want)\n",
    "api_key = '72fNK2ogONHXje1XShvxvQ3mZUKZN8kErOTKnZBx1xaEd9apKnoZJQQJ99BFAAAAAAAAAAAAINFRAZML3cS9'\n",
    " \n",
    "if not api_key:\n",
    "    raise Exception(\"A key should be provided to invoke the endpoint\")\n",
    " \n",
    "# Example input data - adjust this according to your model's expected input format\n",
    "data = {\n",
    "        \"text\": \"This is a test sentence to evaluate the DeBERTa endpoint.\"\n",
    "    }\n",
    " \n",
    "# Encode the data to JSON bytes\n",
    "body = str.encode(json.dumps(data))\n",
    " \n",
    "# Your endpoint URL\n",
    "url = 'http://194.171.191.227:30526/api/v1/endpoint/deberta-emotion-clf-endpoint/score'\n",
    " \n",
    "# Set the request headers including authorization with your API key\n",
    "headers = {\n",
    "    'Content-Type': 'application/json',\n",
    "    'Accept': 'application/json',\n",
    "    'Authorization': 'Bearer ' + api_key\n",
    "}\n",
    " \n",
    "# Prepare the request\n",
    "req = urllib.request.Request(url, body, headers)\n",
    " \n",
    "try:\n",
    "    # Send the request and read the response\n",
    "    response = urllib.request.urlopen(req)\n",
    "    result = response.read()\n",
    "    print(\"Response from DeBERTa endpoint:\")\n",
    "    print(result.decode(\"utf-8\"))\n",
    " \n",
    "except urllib.error.HTTPError as error:\n",
    "    # If there's an HTTP error, print status and details\n",
    "    print(\"The request failed with status code:\", error.code)\n",
    "    print(\"Headers:\", error.info())\n",
    "    print(\"Error response:\", error.read().decode(\"utf8\", 'ignore'))"
   ]
  },
  {
   "cell_type": "code",
   "execution_count": null,
   "id": "30dacad0",
   "metadata": {},
   "outputs": [],
   "source": []
  },
  {
   "cell_type": "code",
   "execution_count": null,
   "id": "61c6c83b",
   "metadata": {},
   "outputs": [],
   "source": []
  },
  {
   "cell_type": "code",
   "execution_count": null,
   "id": "cb53979b",
   "metadata": {},
   "outputs": [],
   "source": []
  }
 ],
 "metadata": {
  "kernelspec": {
   "display_name": "emotion-clf-pipeline-bOnCAZAr-py3.11",
   "language": "python",
   "name": "python3"
  },
  "language_info": {
   "codemirror_mode": {
    "name": "ipython",
    "version": 3
   },
   "file_extension": ".py",
   "mimetype": "text/x-python",
   "name": "python",
   "nbconvert_exporter": "python",
   "pygments_lexer": "ipython3",
   "version": "3.11.9"
  }
 },
 "nbformat": 4,
 "nbformat_minor": 5
}

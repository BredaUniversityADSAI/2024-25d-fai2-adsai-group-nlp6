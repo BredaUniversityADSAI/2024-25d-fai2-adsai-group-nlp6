{
 "cells": [
  {
   "cell_type": "code",
   "execution_count": 1,
   "id": "23891525",
   "metadata": {},
   "outputs": [
    {
     "name": "stdout",
     "output_type": "stream",
     "text": [
      "✅ Environment 'emotion-clf-pipeline-env' registered successfully.\n"
     ]
    }
   ],
   "source": [
    "from azure.ai.ml import MLClient\n",
    "from azure.identity import DefaultAzureCredential\n",
    "from azure.ai.ml.entities import Environment\n",
    "\n",
    "# Step 1: Connect to Azure ML\n",
    "ml_client = MLClient(\n",
    "    DefaultAzureCredential(),\n",
    "    subscription_id=\"0a94de80-6d3b-49f2-b3e9-ec5818862801\",\n",
    "    resource_group_name=\"buas-y2\",\n",
    "    workspace_name=\"NLP6-2025\",\n",
    ")\n",
    "\n",
    "# Step 2: Register environment from your environment.yml\n",
    "env = Environment(\n",
    "    name=\"emotion-clf-pipeline-env-v2\",\n",
    "    description=\"Custom environment for emotion classifier with all training and inference dependencies.\",\n",
    "    conda_file=\"../environment.yml\",\n",
    "    image=\"mcr.microsoft.com/azureml/openmpi4.1.0-ubuntu20.04:latest\"\n",
    ")\n",
    "\n",
    "# Step 3: Register in Azure ML\n",
    "ml_client.environments.create_or_update(env)\n",
    "\n",
    "print(\"✅ Environment 'emotion-clf-pipeline-env' registered successfully.\")\n"
   ]
  },
  {
   "cell_type": "code",
   "execution_count": 6,
   "id": "6d75b094",
   "metadata": {},
   "outputs": [
    {
     "data": {
      "text/plain": [
       "Environment({'arm_type': 'environment_version', 'latest_version': None, 'image': 'mcr.microsoft.com/azureml/openmpi4.1.0-ubuntu20.04:latest', 'intellectual_property': None, 'is_anonymous': False, 'auto_increment_version': False, 'auto_delete_setting': None, 'name': 'emotion-clf-pipeline-env', 'description': 'Custom environment for emotion classifier with all training and inference dependencies.', 'tags': {}, 'properties': {'azureml.labels': 'latest'}, 'print_as_yaml': False, 'id': '/subscriptions/0a94de80-6d3b-49f2-b3e9-ec5818862801/resourceGroups/buas-y2/providers/Microsoft.MachineLearningServices/workspaces/NLP6-2025/environments/emotion-clf-pipeline-env/versions/3', 'Resource__source_path': '', 'base_path': '/Users/erfan.salour/Desktop/2024-25d-fai2-adsai-group-nlp6/notebooks', 'creation_context': <azure.ai.ml.entities._system_data.SystemData object at 0x113f47cd0>, 'serialize': <msrest.serialization.Serializer object at 0x113e5e1d0>, 'version': '3', 'conda_file': {'channels': ['defaults', 'pytorch', 'conda-forge'], 'dependencies': ['python>=3.11,<3.12', 'pytorch', 'torchvision', 'torchaudio', 'transformers>=4.51.3', 'pandas>=2.2.3', 'scikit-learn>=1.6.1', 'tqdm>=4.67.1', 'nltk>=3.9.1', 'seaborn>=0.13.2', 'assemblyai>=0.40.2', 'openpyxl>=3.1.5', 'sentence-transformers>=4.1.0', 'jupyter>=1.1.1', 'ipykernel>=6.29.5', 'fastapi>=0.115.12', 'uvicorn>=0.34.2', 'textblob>=0.19.0', 'pytubefix>=8.13.1', 'black>=25.1.0', 'isort>=6.0.1', 'pytest>=8.3.5', 'protobuf>=6.31.0', 'sentencepiece>=0.2.0', 'tabulate>=0.9.0', 'termcolor>=3.1.0', 'sphinx>=8.2.3', 'sphinx-rtd-theme>=3.0.2', 'sphinx-autobuild>=2024.10.3', 'azure-ai-ml>=1.27.1', 'azureml-core>=1.60.0', 'python-dotenv>=1.0.0', 'azure-identity>=1.23.0', 'pip', {'pip': ['openai-whisper @ git+https://github.com/openai/whisper.git']}, 'flake8>=5.0.4', 'importlib-metadata>=8.2.0', 'pre-commit>=4.2.0'], 'name': 'emotion-clf-pipeline'}, 'build': None, 'inference_config': None, 'os_type': 'Linux', 'conda_file_path': None, 'path': None, 'datastore': None, 'upload_hash': None, 'translated_conda_file': '{\\n  \"channels\": [\\n    \"defaults\",\\n    \"pytorch\",\\n    \"conda-forge\"\\n  ],\\n  \"dependencies\": [\\n    \"python>=3.11,<3.12\",\\n    \"pytorch\",\\n    \"torchvision\",\\n    \"torchaudio\",\\n    \"transformers>=4.51.3\",\\n    \"pandas>=2.2.3\",\\n    \"scikit-learn>=1.6.1\",\\n    \"tqdm>=4.67.1\",\\n    \"nltk>=3.9.1\",\\n    \"seaborn>=0.13.2\",\\n    \"assemblyai>=0.40.2\",\\n    \"openpyxl>=3.1.5\",\\n    \"sentence-transformers>=4.1.0\",\\n    \"jupyter>=1.1.1\",\\n    \"ipykernel>=6.29.5\",\\n    \"fastapi>=0.115.12\",\\n    \"uvicorn>=0.34.2\",\\n    \"textblob>=0.19.0\",\\n    \"pytubefix>=8.13.1\",\\n    \"black>=25.1.0\",\\n    \"isort>=6.0.1\",\\n    \"pytest>=8.3.5\",\\n    \"protobuf>=6.31.0\",\\n    \"sentencepiece>=0.2.0\",\\n    \"tabulate>=0.9.0\",\\n    \"termcolor>=3.1.0\",\\n    \"sphinx>=8.2.3\",\\n    \"sphinx-rtd-theme>=3.0.2\",\\n    \"sphinx-autobuild>=2024.10.3\",\\n    \"azure-ai-ml>=1.27.1\",\\n    \"azureml-core>=1.60.0\",\\n    \"python-dotenv>=1.0.0\",\\n    \"azure-identity>=1.23.0\",\\n    \"pip\",\\n    {\\n      \"pip\": [\\n        \"openai-whisper @ git+https://github.com/openai/whisper.git\"\\n      ]\\n    },\\n    \"flake8>=5.0.4\",\\n    \"importlib-metadata>=8.2.0\",\\n    \"pre-commit>=4.2.0\"\\n  ],\\n  \"name\": \"emotion-clf-pipeline\"\\n}'})"
      ]
     },
     "execution_count": 6,
     "metadata": {},
     "output_type": "execute_result"
    }
   ],
   "source": [
    "ml_client.environments.create_or_update(env)\n"
   ]
  },
  {
   "cell_type": "code",
   "execution_count": null,
   "id": "c96aee04",
   "metadata": {},
   "outputs": [],
   "source": []
  }
 ],
 "metadata": {
  "kernelspec": {
   "display_name": "emotion-clf-pipeline-bOnCAZAr-py3.11",
   "language": "python",
   "name": "python3"
  },
  "language_info": {
   "codemirror_mode": {
    "name": "ipython",
    "version": 3
   },
   "file_extension": ".py",
   "mimetype": "text/x-python",
   "name": "python",
   "nbconvert_exporter": "python",
   "pygments_lexer": "ipython3",
   "version": "3.11.9"
  }
 },
 "nbformat": 4,
 "nbformat_minor": 5
}

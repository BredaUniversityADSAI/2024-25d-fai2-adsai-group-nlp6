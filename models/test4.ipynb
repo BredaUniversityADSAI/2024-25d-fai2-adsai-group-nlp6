{
 "cells": [
  {
   "cell_type": "code",
   "execution_count": null,
   "id": "8645c543",
   "metadata": {},
   "outputs": [],
   "source": [
    "1"
   ]
  }
 ],
 "metadata": {
  "language_info": {
   "name": "python"
  }
 },
 "nbformat": 4,
 "nbformat_minor": 5
}

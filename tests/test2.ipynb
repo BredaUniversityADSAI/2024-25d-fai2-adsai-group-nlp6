{
 "cells": [
  {
   "cell_type": "code",
   "execution_count": null,
   "id": "8ac84180",
   "metadata": {},
   "outputs": [],
   "source": [
    "1\n"
   ]
  }
 ],
 "metadata": {
  "language_info": {
   "name": "python"
  }
 },
 "nbformat": 4,
 "nbformat_minor": 5
}
